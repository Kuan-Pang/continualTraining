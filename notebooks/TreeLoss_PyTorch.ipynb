{
  "cells": [
    {
      "cell_type": "markdown",
      "metadata": {
        "id": "FUaDrmRu-h3k"
      },
      "source": [
        "## Before you start\n",
        "\n",
        "This notebook example lets you try out Neptune anonymously, with zero setup.\n",
        "\n",
        "If you want to see the example logged to your own workspace instead:\n",
        "\n",
        "  1. Create a Neptune account. [Register &rarr;](https://neptune.ai/register)\n",
        "  1. Create a Neptune project that you will use for tracking metadata. For instructions, see [Creating a project](https://docs.neptune.ai/setup/creating_project) in the Neptune docs."
      ]
    },
    {
      "cell_type": "markdown",
      "metadata": {
        "id": "w_0KXqlePqNi"
      },
      "source": [
        "## Install Neptune and dependencies"
      ]
    },
    {
      "cell_type": "markdown",
      "metadata": {
        "id": "rik2HDr0r5Hn",
        "tags": [
          "comment"
        ]
      },
      "source": [
        "## Start a run\n",
        "\n",
        "To create a new run for tracking the metadata, you tell Neptune who you are (`api_token`) and where to send the data (`project`).\n",
        "\n",
        "You can use the default code cell below to create an anonymous run in a public project. **Note**: Public projects are cleaned regularly, so anonymous runs are only stored temporarily.\n",
        "\n",
        "### Log to your own project instead\n",
        "\n",
        "Replace the code below with the following:\n",
        "\n",
        "```python\n",
        "import neptune\n",
        "from getpass import getpass\n",
        "\n",
        "run = neptune.init_run(\n",
        "    project=\"lola-w/hierarchy-tree\",  # replace with your own (see instructions below)\n",
        "    api_token=getpass(\"eyJhcGlfYWRkcmVzcyI6Imh0dHBzOi8vYXBwLm5lcHR1bmUuYWkiLCJhcGlfdXJsIjoiaHR0cHM6Ly9hcHAubmVwdHVuZS5haSIsImFwaV9rZXkiOiI0ZDgwMjU3Yy0zYWQ1LTQ5ZGMtYjRiZC1kNGE4ZDAzN2JhZGIifQ==\"),\n",
        ")\n",
        "```\n",
        "\n",
        "To find your API token and full project name:\n",
        "\n",
        "1. [Log in to Neptune](https://app.neptune.ai/).\n",
        "1. In the bottom-left corner, expand your user menu and select **Get your API token**.\n",
        "1. The workspace name is displayed in the top-left corner of the app. To copy the project path, in the top-right corner, open the settings menu and select **Properties**.\n",
        "\n",
        "For more help, see [Setting Neptune credentials](https://docs.neptune.ai/setup/setting_credentials) in the Neptune docs.\n"
      ]
    },
    {
      "cell_type": "markdown",
      "metadata": {
        "id": "vqN4eajH_RIE"
      },
      "source": [
        "### Imports"
      ]
    },
    {
      "cell_type": "code",
      "execution_count": 2,
      "metadata": {
        "id": "KkxarBB4_RIE"
      },
      "outputs": [],
      "source": [
        "import torch\n",
        "from torch import nn\n",
        "from torch import optim\n",
        "from torchvision import transforms, datasets\n",
        "import numpy as np\n",
        "import networkx\n",
        "import obonet\n",
        "import torch\n",
        "import torch.nn.functional as F\n",
        "import networkx as nx"
      ]
    },
    {
      "cell_type": "markdown",
      "metadata": {
        "id": "2nW58z84_RIE"
      },
      "source": [
        "### Hyperparameters for training"
      ]
    },
    {
      "cell_type": "markdown",
      "metadata": {
        "id": "NBkFzUaHuaHE"
      },
      "source": [
        "### Residual - pkk code"
      ]
    },
    {
      "cell_type": "code",
      "execution_count": 5,
      "metadata": {
        "colab": {
          "base_uri": "https://localhost:8080/"
        },
        "id": "ilP31XcOJIsY",
        "outputId": "39c68831-fe9a-40d0-aa6d-8ff9b8ef0243"
      },
      "outputs": [
        {
          "data": {
            "text/plain": [
              "True"
            ]
          },
          "execution_count": 5,
          "metadata": {},
          "output_type": "execute_result"
        }
      ],
      "source": [
        "onto_path = \"http://purl.obolibrary.org/obo/cl/cl-basic.obo\"\n",
        "graph = obonet.read_obo(onto_path)\n",
        "id_to_name = {id_: data.get('name') for id_, data in graph.nodes(data=True)}\n",
        "name_to_id = {data['name']: id_  for id_, data in graph.nodes(data=True) if 'name' in data}\n",
        "\n",
        "def map_celltype(source, target, name_to_id, id_to_name):\n",
        "    result = []\n",
        "    for i in networkx.al_simple_paths(graph, name_to_id[source], name_to_id[target]):\n",
        "        if all([\"CL\" in j for j in i]):\n",
        "            result.append([id_to_name[j] for j in i])\n",
        "    if not result:\n",
        "        return \"others\"\n",
        "    else:\n",
        "        return result[0][-2]\n",
        "\n",
        "networkx.is_directed_acyclic_graph(graph)"
      ]
    },
    {
      "cell_type": "markdown",
      "metadata": {
        "id": "-Aa09Zw9pivs"
      },
      "source": [
        "### CustomLoss from Pytorch"
      ]
    },
    {
      "cell_type": "code",
      "execution_count": null,
      "metadata": {
        "id": "28YOeYIMpiRf"
      },
      "outputs": [],
      "source": [
        "class TreeLoss(nn.Module):\n",
        "    def __init__(self, graph, lambda_reg):\n",
        "        super(TreeLoss, self).__init__()\n",
        "        self.graph = graph\n",
        "        self.lambda_reg = lambda_reg\n",
        "\n",
        "    def forward(self, output, target):\n",
        "        criterion = nn.CrossEntropyLoss()\n",
        "        ce_loss = criterion(output, target)\n",
        "\n",
        "        reg_loss = 0.0\n",
        "        for i in range(len(target)):\n",
        "            true_label = target[i].item()\n",
        "            pred_label = output[i].max(0)[1].item()\n",
        "\n",
        "            if true_label != pred_label:\n",
        "                common_ancestor = self.find_common_ancestor(true_label, pred_label)\n",
        "                distance = self.calculate_distance(true_label, common_ancestor) + self.calculate_distance(pred_label, common_ancestor)\n",
        "                reg_loss += distance\n",
        "            else:\n",
        "                # No penalty if the prediction is correct\n",
        "                reg_loss += 0\n",
        "\n",
        "        reg_loss /= len(target)\n",
        "        total_loss = ce_loss + self.lambda_reg * reg_loss\n",
        "        return total_loss\n",
        "\n",
        "    def find_common_ancestor(self, type1_id, type2_id):\n",
        "      # DAG, smaller penalty for predicting a cell type that is an ancestor or descendant of the true cell type\n",
        "        ancestors1 = set(nx.ancestors(self.graph, type1_id))\n",
        "        ancestors2 = set(nx.ancestors(self.graph, type2_id))\n",
        "        common_ancestors = ancestors1.intersection(ancestors2)\n",
        "        if common_ancestors:\n",
        "            return min(common_ancestors, key=lambda ancestor: nx.shortest_path_length(self.graph, ancestor, 'root_node_id'))\n",
        "        return 'root_node_id'  # or another default value\n",
        "\n",
        "    def calculate_distance(self, cell_type_id, ancestor_id):\n",
        "      # true vs predicted in a ancestor-descendant relationship\n",
        "        if ancestor_id == cell_type_id:\n",
        "            # No penalty for parent-child misclassification\n",
        "            return 0\n",
        "        return nx.shortest_path_length(self.graph, ancestor_id, cell_type_id)"
      ]
    }
  ],
  "metadata": {
    "colab": {
      "provenance": []
    },
    "kernelspec": {
      "display_name": "base",
      "language": "python",
      "name": "python3"
    },
    "language_info": {
      "codemirror_mode": {
        "name": "ipython",
        "version": 3
      },
      "file_extension": ".py",
      "mimetype": "text/x-python",
      "name": "python",
      "nbconvert_exporter": "python",
      "pygments_lexer": "ipython3",
      "version": "3.10.11"
    },
    "vscode": {
      "interpreter": {
        "hash": "d4d1e4263499bec80672ea0156c357c1ee493ec2b1c70f0acce89fc37c4a6abe"
      }
    }
  },
  "nbformat": 4,
  "nbformat_minor": 0
}
