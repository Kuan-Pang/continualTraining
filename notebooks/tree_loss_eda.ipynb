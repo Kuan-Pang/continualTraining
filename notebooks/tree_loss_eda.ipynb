{
 "cells": [
  {
   "cell_type": "code",
   "execution_count": 15,
   "metadata": {},
   "outputs": [],
   "source": [
    "import torch\n",
    "import torch.nn as nn\n",
    "import obonet\n",
    "import numpy as np\n",
    "import json"
   ]
  },
  {
   "cell_type": "code",
   "execution_count": 16,
   "metadata": {},
   "outputs": [],
   "source": [
    "# customize a loss\n",
    "\n",
    "class TreeLoss(torch.nn.Module):\n",
    "    def __init__(self, lamda=0.5, cell_ontology=None, lca_dist_dict = None):\n",
    "        super(TreeLoss, self).__init__()\n",
    "        self.ce = torch.nn.CrossEntropyLoss()\n",
    "        \n",
    "        if not cell_ontology:\n",
    "            onto_path = \"http://purl.obolibrary.org/obo/cl/cl-basic.obo\"\n",
    "            self.cell_ontology = obonet.read_obo(onto_path)\n",
    "        else:\n",
    "            self.cell_ontology = cell_ontology\n",
    "        # double check this mapping\n",
    "        self.nodes = np.array(self.cell_ontology.nodes())\n",
    "        \n",
    "        self.lamda = lamda\n",
    "            \n",
    "        assert lca_dist_dict is not None\n",
    "        \n",
    "        self.lca_dist_dict = lca_dist_dict\n",
    "\n",
    "\n",
    "    # pred: (N, C)\n",
    "    # target: (N, C)\n",
    "    def forward(self, pred, target):\n",
    "        target_node_id = self.nodes[np.argmax(target, axis=1)]\n",
    "        pred_node_id = self.nodes[np.argmax(pred, axis=1)]\n",
    "        \n",
    "        # total distance\n",
    "        total_dist = 0\n",
    "        for i in range(len(target_node_id)):\n",
    "            total_dist += self.lca_dist(target_node_id[i], pred_node_id[i])\n",
    "            \n",
    "        # average distance\n",
    "        total_dist /= len(target_node_id)\n",
    "        \n",
    "        return self.ce(pred, target) + self.lamda * total_dist\n",
    "    \n",
    "    def lca_dist(self, node1, node2):\n",
    "        if node1 not in self.lca_dist_dict:\n",
    "            return 0\n",
    "        if node2 not in self.lca_dist_dict[node1]:\n",
    "            return 0\n",
    "        return self.lca_dist_dict[node1][node2]"
   ]
  },
  {
   "cell_type": "code",
   "execution_count": 17,
   "metadata": {},
   "outputs": [
    {
     "data": {
      "text/plain": [
       "tensor(1.3425)"
      ]
     },
     "execution_count": 17,
     "metadata": {},
     "output_type": "execute_result"
    }
   ],
   "source": [
    "\n",
    "# read /home/pangkuan/dev/course_work/csc311/continualTraining/notebooks/lca_distances.json\n",
    "lca_dist_dict = json.load(open(\"/home/pangkuan/dev/course_work/csc311/continualTraining/notebooks/lca_distances.json\", \"r\"))\n",
    "tree_loss = TreeLoss(lamda=0.5, cell_ontology=None, lca_dist_dict = lca_dist_dict)\n",
    "\n",
    "tree_loss(torch.tensor([[0.1, 0.2, 0.3, 0.4], [0.1, 0.2, 0.3, 0.4]]), torch.tensor([[0., 0., 1., 0.], [0., 0., 1., 0.]]))\n"
   ]
  },
  {
   "cell_type": "code",
   "execution_count": 1,
   "metadata": {},
   "outputs": [],
   "source": [
    "import scanpy as sc\n",
    "\n",
    "data_path = \"/home/pangkuan/dev/code_test_cz_cellxgene/eda/cellxgene50K.h5ad\"\n",
    "adata = sc.read(data_path)"
   ]
  },
  {
   "cell_type": "code",
   "execution_count": 2,
   "metadata": {},
   "outputs": [
    {
     "data": {
      "text/plain": [
       "AnnData object with n_obs × n_vars = 50000 × 60664\n",
       "    obs: 'soma_joinid', 'dataset_id', 'assay', 'assay_ontology_term_id', 'cell_type', 'cell_type_ontology_term_id', 'development_stage', 'development_stage_ontology_term_id', 'disease', 'disease_ontology_term_id', 'donor_id', 'is_primary_data', 'self_reported_ethnicity', 'self_reported_ethnicity_ontology_term_id', 'sex', 'sex_ontology_term_id', 'suspension_type', 'tissue', 'tissue_ontology_term_id', 'tissue_general', 'tissue_general_ontology_term_id'\n",
       "    var: 'soma_joinid', 'feature_id', 'feature_name', 'feature_length'"
      ]
     },
     "execution_count": 2,
     "metadata": {},
     "output_type": "execute_result"
    }
   ],
   "source": [
    "adata"
   ]
  },
  {
   "cell_type": "code",
   "execution_count": 4,
   "metadata": {},
   "outputs": [
    {
     "data": {
      "text/plain": [
       "['normal']\n",
       "Categories (1, object): ['normal']"
      ]
     },
     "execution_count": 4,
     "metadata": {},
     "output_type": "execute_result"
    },
    {
     "ename": "",
     "evalue": "",
     "output_type": "error",
     "traceback": [
      "\u001b[1;31mThe Kernel crashed while executing code in the the current cell or a previous cell. Please review the code in the cell(s) to identify a possible cause of the failure. Click <a href='https://aka.ms/vscodeJupyterKernelCrash'>here</a> for more info. View Jupyter <a href='command:jupyter.viewOutput'>log</a> for further details."
     ]
    }
   ],
   "source": [
    "adata.obs[\"disease\"].unique()"
   ]
  }
 ],
 "metadata": {
  "kernelspec": {
   "display_name": "scgpt_env",
   "language": "python",
   "name": "python3"
  },
  "language_info": {
   "codemirror_mode": {
    "name": "ipython",
    "version": 3
   },
   "file_extension": ".py",
   "mimetype": "text/x-python",
   "name": "python",
   "nbconvert_exporter": "python",
   "pygments_lexer": "ipython3",
   "version": "3.8.17"
  }
 },
 "nbformat": 4,
 "nbformat_minor": 2
}
